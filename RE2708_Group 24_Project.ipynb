{
 "cells": [
  {
   "cell_type": "markdown",
   "id": "f1a0ce38",
   "metadata": {},
   "source": [
    "# RE2708 Group Project: Analysis on Factors affecting reslae flat prices"
   ]
  },
  {
   "cell_type": "markdown",
   "id": "a83a62aa",
   "metadata": {},
   "source": [
    "Group 24: \n",
    "\n",
    "Huang Xuanming\n",
    "\n",
    "Travis Lim Yong Kang A02216696R\n",
    "\n",
    "Celeste Wong Zi Ying\n",
    "\n",
    "Gwendy Lim Hui Shan"
   ]
  },
  {
   "cell_type": "markdown",
   "id": "006834d5",
   "metadata": {},
   "source": [
    "# a) Introduction"
   ]
  },
  {
   "cell_type": "code",
   "execution_count": null,
   "id": "4b50c59e",
   "metadata": {},
   "outputs": [],
   "source": []
  },
  {
   "cell_type": "markdown",
   "id": "9b375d1b",
   "metadata": {},
   "source": [
    "# Loading our libraries"
   ]
  },
  {
   "cell_type": "code",
   "execution_count": null,
   "id": "e422f5ea",
   "metadata": {},
   "outputs": [],
   "source": [
    "import pandas as pd\n",
    "import numpy as np\n",
    "import matplotlib.pyplot as plt\n",
    "import statsmodels.formula.api as smf\n",
    "%matplotlib inline\n",
    "import requests "
   ]
  },
  {
   "cell_type": "code",
   "execution_count": null,
   "id": "8bfa6911",
   "metadata": {},
   "outputs": [],
   "source": [
    "!pip install geopandas"
   ]
  },
  {
   "cell_type": "markdown",
   "id": "b9858948",
   "metadata": {},
   "source": [
    "# b) Description of data sets used"
   ]
  },
  {
   "cell_type": "markdown",
   "id": "037f413c",
   "metadata": {},
   "source": [
    "We have taken 2 sets of data from data.gov.sg and saved it in our 'Data' folder "
   ]
  },
  {
   "cell_type": "code",
   "execution_count": null,
   "id": "57f81a31",
   "metadata": {},
   "outputs": [],
   "source": [
    "df=pd.read_csv(website)\n",
    "df2=pd.read_csv(website)"
   ]
  },
  {
   "cell_type": "markdown",
   "id": "280f048e",
   "metadata": {},
   "source": [
    "Aside obtaining data from data.gov.sg, python also allows us to read data from websites via **web scraping**.\n",
    "\n",
    "\n",
    "We have taken data from \n",
    "url=\n"
   ]
  },
  {
   "cell_type": "code",
   "execution_count": 1,
   "id": "28dab493",
   "metadata": {},
   "outputs": [],
   "source": [
    "import requests\n",
    "import pandas as pd"
   ]
  },
  {
   "cell_type": "code",
   "execution_count": 30,
   "id": "820b27e1",
   "metadata": {},
   "outputs": [],
   "source": [
    "m = requests.get('https://en.wikipedia.org/wiki/List_of_tallest_buildings_in_Singapore')\n",
    "df3 = pd.read_html(m.text)"
   ]
  },
  {
   "cell_type": "markdown",
   "id": "825791c9",
   "metadata": {},
   "source": [
    "We may have to remove some of the columns and rows that are not useful."
   ]
  },
  {
   "cell_type": "code",
   "execution_count": 33,
   "id": "1f1e3077",
   "metadata": {},
   "outputs": [
    {
     "data": {
      "text/html": [
       "<div>\n",
       "<style scoped>\n",
       "    .dataframe tbody tr th:only-of-type {\n",
       "        vertical-align: middle;\n",
       "    }\n",
       "\n",
       "    .dataframe tbody tr th {\n",
       "        vertical-align: top;\n",
       "    }\n",
       "\n",
       "    .dataframe thead th {\n",
       "        text-align: right;\n",
       "    }\n",
       "</style>\n",
       "<table border=\"1\" class=\"dataframe\">\n",
       "  <thead>\n",
       "    <tr style=\"text-align: right;\">\n",
       "      <th></th>\n",
       "      <th>Name</th>\n",
       "      <th>Image</th>\n",
       "      <th>Street address</th>\n",
       "      <th>Years as tallest</th>\n",
       "      <th>Height (m)</th>\n",
       "      <th>Height (ft)</th>\n",
       "      <th>Floors</th>\n",
       "      <th>Coordinates</th>\n",
       "      <th>Reference</th>\n",
       "    </tr>\n",
       "  </thead>\n",
       "  <tbody>\n",
       "    <tr>\n",
       "      <th>0</th>\n",
       "      <td>Cathay Building</td>\n",
       "      <td>NaN</td>\n",
       "      <td>2 Handy Road</td>\n",
       "      <td>1939–1954</td>\n",
       "      <td>70</td>\n",
       "      <td>230</td>\n",
       "      <td>17</td>\n",
       "      <td>1°17′57.5″N 103°50′51.5″E﻿ / ﻿1.299306°N 103.8...</td>\n",
       "      <td>[4]</td>\n",
       "    </tr>\n",
       "    <tr>\n",
       "      <th>1</th>\n",
       "      <td>Asia Insurance Building</td>\n",
       "      <td>NaN</td>\n",
       "      <td>2 Finlayson Green</td>\n",
       "      <td>1954–1971</td>\n",
       "      <td>87</td>\n",
       "      <td>285</td>\n",
       "      <td>20</td>\n",
       "      <td>1°16′55″N 103°51′05″E﻿ / ﻿1.28194°N 103.85139°E</td>\n",
       "      <td>[5]</td>\n",
       "    </tr>\n",
       "    <tr>\n",
       "      <th>2</th>\n",
       "      <td>Shaw Centre</td>\n",
       "      <td>NaN</td>\n",
       "      <td>1 Scotts Road</td>\n",
       "      <td>Never the tallest building in Singapore (compl...</td>\n",
       "      <td>100</td>\n",
       "      <td>328</td>\n",
       "      <td>27</td>\n",
       "      <td>1°18′21″N 103°49′53.5″E﻿ / ﻿1.30583°N 103.8315...</td>\n",
       "      <td>[6]</td>\n",
       "    </tr>\n",
       "    <tr>\n",
       "      <th>3</th>\n",
       "      <td>Meritus Mandarin Singapore Tower One</td>\n",
       "      <td>NaN</td>\n",
       "      <td>333 Orchard Road</td>\n",
       "      <td>1971–1973</td>\n",
       "      <td>144</td>\n",
       "      <td>472</td>\n",
       "      <td>36</td>\n",
       "      <td>1°18′07.6″N 103°50′10.0″E﻿ / ﻿1.302111°N 103.8...</td>\n",
       "      <td>[136]</td>\n",
       "    </tr>\n",
       "    <tr>\n",
       "      <th>4</th>\n",
       "      <td>Meritus Mandarin Singapore Tower Two[A]</td>\n",
       "      <td>NaN</td>\n",
       "      <td>333 Orchard Road</td>\n",
       "      <td>1973–1974</td>\n",
       "      <td>152</td>\n",
       "      <td>499</td>\n",
       "      <td>40</td>\n",
       "      <td>1°18′07.6″N 103°50′10.0″E﻿ / ﻿1.302111°N 103.8...</td>\n",
       "      <td>[128]</td>\n",
       "    </tr>\n",
       "    <tr>\n",
       "      <th>5</th>\n",
       "      <td>UIC Building[A][C]</td>\n",
       "      <td>NaN</td>\n",
       "      <td>5 Shenton Way</td>\n",
       "      <td>1973–1974</td>\n",
       "      <td>152</td>\n",
       "      <td>499</td>\n",
       "      <td>40</td>\n",
       "      <td>1°16′40.51″N 103°50′58.49″E﻿ / ﻿1.2779194°N 10...</td>\n",
       "      <td>[149]</td>\n",
       "    </tr>\n",
       "    <tr>\n",
       "      <th>6</th>\n",
       "      <td>United Overseas Bank Plaza Two</td>\n",
       "      <td>NaN</td>\n",
       "      <td>80 Raffles Place</td>\n",
       "      <td>1974–1975</td>\n",
       "      <td>162</td>\n",
       "      <td>531</td>\n",
       "      <td>38</td>\n",
       "      <td>1°17′08″N 103°50′59″E﻿ / ﻿1.28556°N 103.84972°E</td>\n",
       "      <td>[101]</td>\n",
       "    </tr>\n",
       "    <tr>\n",
       "      <th>7</th>\n",
       "      <td>DBS Building Tower One</td>\n",
       "      <td>NaN</td>\n",
       "      <td>6 Shenton Way</td>\n",
       "      <td>1975–1986</td>\n",
       "      <td>201</td>\n",
       "      <td>659</td>\n",
       "      <td>50</td>\n",
       "      <td>1°16′37.40″N 103°50′54.06″E﻿ / ﻿1.2770556°N 10...</td>\n",
       "      <td>[51]</td>\n",
       "    </tr>\n",
       "    <tr>\n",
       "      <th>8</th>\n",
       "      <td>One Raffles Place[B]</td>\n",
       "      <td>NaN</td>\n",
       "      <td>1 Raffles Place</td>\n",
       "      <td>1986–2016</td>\n",
       "      <td>280</td>\n",
       "      <td>919</td>\n",
       "      <td>63</td>\n",
       "      <td>1°17′04.89″N 103°51′03.70″E﻿ / ﻿1.2846917°N 10...</td>\n",
       "      <td>[7]</td>\n",
       "    </tr>\n",
       "    <tr>\n",
       "      <th>9</th>\n",
       "      <td>United Overseas Bank Plaza One[B]</td>\n",
       "      <td>NaN</td>\n",
       "      <td>80 Raffles Place</td>\n",
       "      <td>1992–2016</td>\n",
       "      <td>280</td>\n",
       "      <td>919</td>\n",
       "      <td>67</td>\n",
       "      <td>1°17′08″N 103°50′59″E﻿ / ﻿1.28556°N 103.84972°E</td>\n",
       "      <td>[16]</td>\n",
       "    </tr>\n",
       "    <tr>\n",
       "      <th>10</th>\n",
       "      <td>Republic Plaza[B]</td>\n",
       "      <td>NaN</td>\n",
       "      <td>9 Raffles Place</td>\n",
       "      <td>1995–2016</td>\n",
       "      <td>280</td>\n",
       "      <td>919</td>\n",
       "      <td>66</td>\n",
       "      <td>1°16′58″N 103°51′04″E﻿ / ﻿1.28278°N 103.85111°E</td>\n",
       "      <td>[14]</td>\n",
       "    </tr>\n",
       "    <tr>\n",
       "      <th>11</th>\n",
       "      <td>Guoco Tower</td>\n",
       "      <td>NaN</td>\n",
       "      <td>Choon Guan Street</td>\n",
       "      <td>2016-</td>\n",
       "      <td>290</td>\n",
       "      <td>951</td>\n",
       "      <td>64</td>\n",
       "      <td>1°16′37.560″N 103°50′45.960″E﻿ / ﻿1.27710000°N...</td>\n",
       "      <td>[11]</td>\n",
       "    </tr>\n",
       "  </tbody>\n",
       "</table>\n",
       "</div>"
      ],
      "text/plain": [
       "                                       Name  Image     Street address  \\\n",
       "0                           Cathay Building    NaN       2 Handy Road   \n",
       "1                   Asia Insurance Building    NaN  2 Finlayson Green   \n",
       "2                               Shaw Centre    NaN      1 Scotts Road   \n",
       "3      Meritus Mandarin Singapore Tower One    NaN   333 Orchard Road   \n",
       "4   Meritus Mandarin Singapore Tower Two[A]    NaN   333 Orchard Road   \n",
       "5                        UIC Building[A][C]    NaN      5 Shenton Way   \n",
       "6            United Overseas Bank Plaza Two    NaN   80 Raffles Place   \n",
       "7                    DBS Building Tower One    NaN      6 Shenton Way   \n",
       "8                      One Raffles Place[B]    NaN    1 Raffles Place   \n",
       "9         United Overseas Bank Plaza One[B]    NaN   80 Raffles Place   \n",
       "10                        Republic Plaza[B]    NaN    9 Raffles Place   \n",
       "11                              Guoco Tower    NaN  Choon Guan Street   \n",
       "\n",
       "                                     Years as tallest  Height (m)  \\\n",
       "0                                           1939–1954          70   \n",
       "1                                           1954–1971          87   \n",
       "2   Never the tallest building in Singapore (compl...         100   \n",
       "3                                           1971–1973         144   \n",
       "4                                           1973–1974         152   \n",
       "5                                           1973–1974         152   \n",
       "6                                           1974–1975         162   \n",
       "7                                           1975–1986         201   \n",
       "8                                           1986–2016         280   \n",
       "9                                           1992–2016         280   \n",
       "10                                          1995–2016         280   \n",
       "11                                              2016-         290   \n",
       "\n",
       "    Height (ft)  Floors                                        Coordinates  \\\n",
       "0           230      17  1°17′57.5″N 103°50′51.5″E﻿ / ﻿1.299306°N 103.8...   \n",
       "1           285      20    1°16′55″N 103°51′05″E﻿ / ﻿1.28194°N 103.85139°E   \n",
       "2           328      27  1°18′21″N 103°49′53.5″E﻿ / ﻿1.30583°N 103.8315...   \n",
       "3           472      36  1°18′07.6″N 103°50′10.0″E﻿ / ﻿1.302111°N 103.8...   \n",
       "4           499      40  1°18′07.6″N 103°50′10.0″E﻿ / ﻿1.302111°N 103.8...   \n",
       "5           499      40  1°16′40.51″N 103°50′58.49″E﻿ / ﻿1.2779194°N 10...   \n",
       "6           531      38    1°17′08″N 103°50′59″E﻿ / ﻿1.28556°N 103.84972°E   \n",
       "7           659      50  1°16′37.40″N 103°50′54.06″E﻿ / ﻿1.2770556°N 10...   \n",
       "8           919      63  1°17′04.89″N 103°51′03.70″E﻿ / ﻿1.2846917°N 10...   \n",
       "9           919      67    1°17′08″N 103°50′59″E﻿ / ﻿1.28556°N 103.84972°E   \n",
       "10          919      66    1°16′58″N 103°51′04″E﻿ / ﻿1.28278°N 103.85111°E   \n",
       "11          951      64  1°16′37.560″N 103°50′45.960″E﻿ / ﻿1.27710000°N...   \n",
       "\n",
       "   Reference  \n",
       "0        [4]  \n",
       "1        [5]  \n",
       "2        [6]  \n",
       "3      [136]  \n",
       "4      [128]  \n",
       "5      [149]  \n",
       "6      [101]  \n",
       "7       [51]  \n",
       "8        [7]  \n",
       "9       [16]  \n",
       "10      [14]  \n",
       "11      [11]  "
      ]
     },
     "execution_count": 33,
     "metadata": {},
     "output_type": "execute_result"
    }
   ],
   "source": [
    "df3"
   ]
  },
  {
   "cell_type": "markdown",
   "id": "598e04b2",
   "metadata": {},
   "source": [
    "# Introducing our variables "
   ]
  },
  {
   "cell_type": "code",
   "execution_count": null,
   "id": "c715cdda",
   "metadata": {},
   "outputs": [],
   "source": []
  },
  {
   "cell_type": "code",
   "execution_count": null,
   "id": "92869584",
   "metadata": {},
   "outputs": [],
   "source": []
  },
  {
   "cell_type": "code",
   "execution_count": null,
   "id": "c879c289",
   "metadata": {},
   "outputs": [],
   "source": []
  },
  {
   "cell_type": "markdown",
   "id": "46115892",
   "metadata": {},
   "source": [
    "# c) Construction and cleaning of data"
   ]
  },
  {
   "cell_type": "markdown",
   "id": "603bf557",
   "metadata": {},
   "source": [
    "### Cleaning\n",
    "\n",
    "There may be some outliers in the data being used. Hence, we would want to drop missing observations or drop negative values. \n",
    "\n",
    "A useful code we can use is **dropna()**"
   ]
  },
  {
   "cell_type": "code",
   "execution_count": null,
   "id": "61548d7d",
   "metadata": {},
   "outputs": [],
   "source": []
  },
  {
   "cell_type": "markdown",
   "id": "0d197685",
   "metadata": {},
   "source": [
    "### Grouping\n",
    "\n",
    "Grouping is the most frequently used operation in python. The function that PANDAS offer is called **groupby** and is normally used with functions like **.mean()** or **.count()**.\n",
    "\n",
    "This function can help us successfully group big sets of data together. **Pivot_table** is a function that helps show the data in a neater table."
   ]
  },
  {
   "cell_type": "markdown",
   "id": "324e4588",
   "metadata": {},
   "source": [
    "groupby 2 times"
   ]
  },
  {
   "cell_type": "code",
   "execution_count": null,
   "id": "fa3b9d68",
   "metadata": {},
   "outputs": [],
   "source": []
  },
  {
   "cell_type": "code",
   "execution_count": null,
   "id": "f1e50e54",
   "metadata": {},
   "outputs": [],
   "source": []
  },
  {
   "cell_type": "markdown",
   "id": "42e81403",
   "metadata": {},
   "source": [
    "### Merging\n",
    "\n",
    "Since we have 3 different data sets, we would have to merge them together so we can draw conclusions about them. We would have to first find a **common variable** between the different data sets before we merge them together.\n",
    "\n",
    "\n"
   ]
  },
  {
   "cell_type": "code",
   "execution_count": null,
   "id": "e8af6768",
   "metadata": {},
   "outputs": [],
   "source": [
    "df4=pd.merge(df,df2,on='common variable')"
   ]
  },
  {
   "cell_type": "code",
   "execution_count": null,
   "id": "9b509224",
   "metadata": {},
   "outputs": [],
   "source": []
  },
  {
   "cell_type": "markdown",
   "id": "bce8df7d",
   "metadata": {},
   "source": [
    "# d) Graphical analysis"
   ]
  },
  {
   "cell_type": "markdown",
   "id": "c773dee8",
   "metadata": {},
   "source": [
    "### Plotting grpahs\n",
    "\n",
    "We have to use:\n",
    "\n",
    "**import matplotlib.pyplot as plt**\n",
    "\n",
    "**%matplotlib inline**\n",
    "\n",
    "before we can plot our graphs\n",
    "\n",
    "\n",
    "\n",
    "\n",
    "\n",
    "\n"
   ]
  },
  {
   "cell_type": "markdown",
   "id": "f659739e",
   "metadata": {},
   "source": [
    "Figures:\n",
    "\n",
    "Pie chart\n",
    "\n",
    "Scatterplot\n",
    "\n",
    "Bar graph\n"
   ]
  },
  {
   "cell_type": "code",
   "execution_count": null,
   "id": "84af2ace",
   "metadata": {},
   "outputs": [],
   "source": []
  },
  {
   "cell_type": "code",
   "execution_count": null,
   "id": "a5a60612",
   "metadata": {},
   "outputs": [],
   "source": []
  },
  {
   "cell_type": "markdown",
   "id": "72a4a186",
   "metadata": {},
   "source": [
    "# e) Regression analysis"
   ]
  },
  {
   "cell_type": "markdown",
   "id": "4e00d50c",
   "metadata": {},
   "source": [
    "Regression line\n",
    "\n",
    "Statistical significance ( The one with confidence interval)\n",
    "\n",
    "**import statsmodels.formula.api as smf**"
   ]
  },
  {
   "cell_type": "code",
   "execution_count": null,
   "id": "ebc80a98",
   "metadata": {},
   "outputs": [],
   "source": []
  },
  {
   "cell_type": "code",
   "execution_count": null,
   "id": "bbb78ceb",
   "metadata": {},
   "outputs": [],
   "source": []
  },
  {
   "cell_type": "code",
   "execution_count": null,
   "id": "b4148109",
   "metadata": {},
   "outputs": [],
   "source": []
  },
  {
   "cell_type": "code",
   "execution_count": null,
   "id": "a9545e3f",
   "metadata": {},
   "outputs": [],
   "source": []
  },
  {
   "cell_type": "markdown",
   "id": "e620b627",
   "metadata": {},
   "source": [
    "# f) Conclusion"
   ]
  },
  {
   "cell_type": "code",
   "execution_count": null,
   "id": "f7dcddd0",
   "metadata": {},
   "outputs": [],
   "source": []
  }
 ],
 "metadata": {
  "kernelspec": {
   "display_name": "Python 3",
   "language": "python",
   "name": "python3"
  },
  "language_info": {
   "codemirror_mode": {
    "name": "ipython",
    "version": 3
   },
   "file_extension": ".py",
   "mimetype": "text/x-python",
   "name": "python",
   "nbconvert_exporter": "python",
   "pygments_lexer": "ipython3",
   "version": "3.8.8"
  }
 },
 "nbformat": 4,
 "nbformat_minor": 5
}
